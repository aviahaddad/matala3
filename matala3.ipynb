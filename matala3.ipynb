{
 "cells": [
  {
   "cell_type": "code",
   "execution_count": 25,
   "metadata": {},
   "outputs": [],
   "source": [
    "import requests\n",
    "import pandas as pd"
   ]
  },
  {
   "cell_type": "code",
   "execution_count": 26,
   "metadata": {},
   "outputs": [],
   "source": [
    "with open('C:/Users/אביה חדאד/Desktop/תואר ראשון/שנה ג/כרייה וניתוח נתונים מתקדם פייתון/מטלות/מטלה 3/dests.txt', 'r') as f:\n",
    "    destinations = f.read().splitlines()"
   ]
  },
  {
   "cell_type": "code",
   "execution_count": 27,
   "metadata": {},
   "outputs": [],
   "source": [
    "origin = 'Tel Aviv'"
   ]
  },
  {
   "cell_type": "code",
   "execution_count": 28,
   "metadata": {},
   "outputs": [],
   "source": [
    "df = pd.DataFrame(columns=['Target', 'Distance_km', 'Duration', 'Longitude', 'Latitude'])"
   ]
  },
  {
   "cell_type": "code",
   "execution_count": 29,
   "metadata": {},
   "outputs": [],
   "source": [
    "for destination in destinations:\n",
    "    try:\n",
    "\n",
    "        url = f'https://maps.googleapis.com/maps/api/distancematrix/json?origins={origin}&destinations={destination}&key=my_key'\n",
    "        response = requests.get(url)\n",
    "        data = response.json()\n",
    "        distance_km = data['rows'][0]['elements'][0]['distance']['value'] / 1000\n",
    "        duration = data['rows'][0]['elements'][0]['duration']['text']\n",
    "        \n",
    "        url = f'https://maps.googleapis.com/maps/api/geocode/json?address={destination}&key=my_key'\n",
    "        response = requests.get(url)\n",
    "        data = response.json()\n",
    "        longitude = data['results'][0]['geometry']['location']['lng']\n",
    "        latitude = data['results'][0]['geometry']['location']['lat']\n",
    "        \n",
    "        df = df.append({'Target': destination, 'Distance_km': distance_km, 'Duration': duration, 'Longitude': longitude, 'Latitude': latitude}, ignore_index=True)\n",
    "    except:\n",
    "        print(f'Error retrieving information for {destination}')"
   ]
  },
  {
   "cell_type": "code",
   "execution_count": 30,
   "metadata": {},
   "outputs": [
    {
     "name": "stdout",
     "output_type": "stream",
     "text": [
      "      Target  Distance_km          Duration  Longitude   Latitude\n",
      "0   Istanbul     1815.227   21 hours 3 mins  28.978359  41.008238\n",
      "1  Amsterdam     4532.541    2 days 0 hours   4.904139  52.367573\n",
      "2   Valletta     3792.883    2 days 3 hours  14.514100  35.899237\n",
      "3      Basel     4092.805    1 day 20 hours   7.588576  47.559599\n",
      "4       Doha     2164.477  22 hours 39 mins  51.531040  25.285447\n"
     ]
    }
   ],
   "source": [
    "print(df)"
   ]
  },
  {
   "cell_type": "code",
   "execution_count": 31,
   "metadata": {},
   "outputs": [
    {
     "data": {
      "text/plain": [
       "1    Amsterdam\n",
       "3        Basel\n",
       "2     Valletta\n",
       "Name: Target, dtype: object"
      ]
     },
     "execution_count": 31,
     "metadata": {},
     "output_type": "execute_result"
    }
   ],
   "source": [
    "### The 3 cities furthest from Tel Aviv - \n",
    "df.sort_values('Distance_km', ascending=False).head(3)['Target']\n"
   ]
  }
 ],
 "metadata": {
  "kernelspec": {
   "display_name": "Python 3",
   "language": "python",
   "name": "python3"
  },
  "language_info": {
   "codemirror_mode": {
    "name": "ipython",
    "version": 3
   },
   "file_extension": ".py",
   "mimetype": "text/x-python",
   "name": "python",
   "nbconvert_exporter": "python",
   "pygments_lexer": "ipython3",
   "version": "3.8.3"
  }
 },
 "nbformat": 4,
 "nbformat_minor": 4
}
